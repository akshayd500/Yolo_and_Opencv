{
 "cells": [
  {
   "cell_type": "code",
   "execution_count": null,
   "metadata": {},
   "outputs": [],
   "source": [
    "import cv2\n",
    "import numpy as np"
   ]
  },
  {
   "cell_type": "code",
   "execution_count": 2,
   "metadata": {},
   "outputs": [
    {
     "ename": "KeyboardInterrupt",
     "evalue": "",
     "output_type": "error",
     "traceback": [
      "\u001b[1;31m---------------------------------------------------------------------------\u001b[0m",
      "\u001b[1;31mKeyboardInterrupt\u001b[0m                         Traceback (most recent call last)",
      "\u001b[1;32m<ipython-input-2-811a3ded6b81>\u001b[0m in \u001b[0;36m<module>\u001b[1;34m\u001b[0m\n\u001b[0;32m     21\u001b[0m                                        crop = False)\n\u001b[0;32m     22\u001b[0m     \u001b[0mmodel\u001b[0m\u001b[1;33m.\u001b[0m\u001b[0msetInput\u001b[0m\u001b[1;33m(\u001b[0m\u001b[0mblob_image\u001b[0m\u001b[1;33m)\u001b[0m\u001b[1;33m\u001b[0m\u001b[1;33m\u001b[0m\u001b[0m\n\u001b[1;32m---> 23\u001b[1;33m     \u001b[0moutput\u001b[0m \u001b[1;33m=\u001b[0m \u001b[0mmodel\u001b[0m\u001b[1;33m.\u001b[0m\u001b[0mforward\u001b[0m\u001b[1;33m(\u001b[0m\u001b[0moutput_layers\u001b[0m\u001b[1;33m)\u001b[0m\u001b[1;33m\u001b[0m\u001b[1;33m\u001b[0m\u001b[0m\n\u001b[0m\u001b[0;32m     24\u001b[0m     \"\"\"\n\u001b[0;32m     25\u001b[0m     \u001b[0mprint\u001b[0m\u001b[1;33m(\u001b[0m\u001b[0moutput\u001b[0m\u001b[1;33m)\u001b[0m\u001b[1;33m\u001b[0m\u001b[1;33m\u001b[0m\u001b[0m\n",
      "\u001b[1;31mKeyboardInterrupt\u001b[0m: "
     ]
    }
   ],
   "source": [
    "while True:\n",
    "    #image_ = cv2.imread(\"images.jpg\")\n",
    "    image = cv2.VideoCapture(0)\n",
    "    _,image_= image.read()\n",
    "    model = cv2.dnn.readNet(\"yolov3.weights\",\"yolov3.cfg\")\n",
    "    with open (\"coco.names\",\"r\") as f:\n",
    "        names = f.read().split(\"\\n\") \n",
    "\n",
    "    #print(names)\n",
    "    layer_names = model.getLayerNames()\n",
    "    output_layers = [layer_names[i[0]-1] for i in model.getUnconnectedOutLayers()]\n",
    "    colours = np.random.uniform(0,255,size = (len(names),3))\n",
    "    #image = cv2.resize(image ,(416,416))\n",
    "    #print(image_.shape)\n",
    "    hh,ww,_ = image_.shape\n",
    "    #converting image to binary object\n",
    "    blob_image = cv2.dnn.blobFromImage(image_,\n",
    "                                      (1 / 255),\n",
    "                                      (416,416),\n",
    "                                      (False,False,False),\n",
    "                                       crop = False)\n",
    "    model.setInput(blob_image)\n",
    "    output = model.forward(output_layers)\n",
    "    \"\"\"\n",
    "    print(output)  \n",
    "    print(output[0])\n",
    "    \"\"\"\n",
    "        # Showing informations on the screen\n",
    "    class_ids = []\n",
    "    confidences = []\n",
    "    boxes = []\n",
    "    for out in output:\n",
    "        for detection in out:\n",
    "            scores = detection[5:]\n",
    "            class_id = np.argmax(scores)\n",
    "            confidence = scores[class_id]\n",
    "            if confidence > 0.5:\n",
    "                # Object detected\n",
    "                center_x = int(detection[0] * ww)\n",
    "                center_y = int(detection[1] * hh)\n",
    "                w = int(detection[2] * ww)\n",
    "                h = int(detection[3] * hh)\n",
    "                # Rectangle coordinates\n",
    "                x = int(center_x - w / 2)\n",
    "                y = int(center_y - h / 2)\n",
    "                boxes.append([x, y, w, h])\n",
    "                confidences.append(float(confidence))\n",
    "                class_ids.append(class_id)\n",
    "    indexes = cv2.dnn.NMSBoxes(boxes, confidences, 0.5, 0.4)\n",
    "    font = cv2.FONT_HERSHEY_PLAIN\n",
    "    for i in range(len(boxes)):\n",
    "        if i in indexes:\n",
    "            x, y, w, h = boxes[i]\n",
    "            label = str(names[class_ids[i]])\n",
    "            color = colours[i]\n",
    "            cv2.rectangle(image_, (x, y), (x + w, y + h), color, 2)\n",
    "            cv2.putText(image_, label, (x, y + 30), font, 3, color, 3)\n",
    "    cv2.imshow(\"Image\", image_)\n",
    "    cv2.waitKey(0)\n",
    "    cv2.destroyAllWindows()\n",
    "    image.release()                "
   ]
  },
  {
   "cell_type": "code",
   "execution_count": null,
   "metadata": {},
   "outputs": [],
   "source": []
  }
 ],
 "metadata": {
  "kernelspec": {
   "display_name": "Python 3",
   "language": "python",
   "name": "python3"
  },
  "language_info": {
   "codemirror_mode": {
    "name": "ipython",
    "version": 3
   },
   "file_extension": ".py",
   "mimetype": "text/x-python",
   "name": "python",
   "nbconvert_exporter": "python",
   "pygments_lexer": "ipython3",
   "version": "3.7.3"
  }
 },
 "nbformat": 4,
 "nbformat_minor": 2
}
