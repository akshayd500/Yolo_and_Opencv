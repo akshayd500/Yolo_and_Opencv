{
 "cells": [
  {
   "cell_type": "code",
   "execution_count": 2,
   "metadata": {},
   "outputs": [],
   "source": [
    "import cv2\n",
    "import numpy as np"
   ]
  },
  {
   "cell_type": "code",
   "execution_count": 15,
   "metadata": {},
   "outputs": [],
   "source": [
    "#image_ = cv2.imread(\"images.jpg\")\n",
    "image = cv2.VideoCapture(0)\n",
    "_,image_= image.read()"
   ]
  },
  {
   "cell_type": "code",
   "execution_count": 16,
   "metadata": {},
   "outputs": [],
   "source": [
    "model = cv2.dnn.readNet(\"yolov3.weights\",\"yolov3.cfg\")"
   ]
  },
  {
   "cell_type": "code",
   "execution_count": 17,
   "metadata": {},
   "outputs": [
    {
     "name": "stdout",
     "output_type": "stream",
     "text": [
      "['person', 'bicycle', 'car', 'motorbike', 'aeroplane', 'bus', 'train', 'truck', 'boat', 'traffic light', 'fire hydrant', 'stop sign', 'parking meter', 'bench', 'bird', 'cat', 'dog', 'horse', 'sheep', 'cow', 'elephant', 'bear', 'zebra', 'giraffe', 'backpack', 'umbrella', 'handbag', 'tie', 'suitcase', 'frisbee', 'skis', 'snowboard', 'sports ball', 'kite', 'baseball bat', 'baseball glove', 'skateboard', 'surfboard', 'tennis racket', 'bottle', 'wine glass', 'cup', 'fork', 'knife', 'spoon', 'bowl', 'banana', 'apple', 'sandwich', 'orange', 'broccoli', 'carrot', 'hot dog', 'pizza', 'donut', 'cake', 'chair', 'sofa', 'pottedplant', 'bed', 'diningtable', 'toilet', 'tvmonitor', 'laptop', 'mouse', 'remote', 'keyboard', 'cell phone', 'microwave', 'oven', 'toaster', 'sink', 'refrigerator', 'book', 'clock', 'vase', 'scissors', 'teddy bear', 'hair drier', 'toothbrush', '']\n"
     ]
    }
   ],
   "source": [
    "with open (\"coco.names\",\"r\") as f:\n",
    "    names = f.read().split(\"\\n\") \n",
    "    \n",
    "print(names)"
   ]
  },
  {
   "cell_type": "code",
   "execution_count": 18,
   "metadata": {},
   "outputs": [],
   "source": [
    "layer_names = model.getLayerNames()\n",
    "output_layers = [layer_names[i[0]-1] for i in model.getUnconnectedOutLayers()]"
   ]
  },
  {
   "cell_type": "code",
   "execution_count": 19,
   "metadata": {},
   "outputs": [],
   "source": [
    "colours = np.random.uniform(0,255,size = (len(names),3))"
   ]
  },
  {
   "cell_type": "code",
   "execution_count": 20,
   "metadata": {},
   "outputs": [
    {
     "name": "stdout",
     "output_type": "stream",
     "text": [
      "(480, 640, 3)\n"
     ]
    }
   ],
   "source": [
    "#image = cv2.resize(image ,(416,416))\n",
    "print(image_.shape)"
   ]
  },
  {
   "cell_type": "code",
   "execution_count": 21,
   "metadata": {
    "scrolled": true
   },
   "outputs": [],
   "source": [
    "hh,ww,_ = image_.shape"
   ]
  },
  {
   "cell_type": "code",
   "execution_count": 22,
   "metadata": {},
   "outputs": [],
   "source": [
    "#converting image to binary object\n",
    "blob_image = cv2.dnn.blobFromImage(image_,\n",
    "                                  (1 / 255),\n",
    "                                  (416,416),\n",
    "                                  (False,False,False),\n",
    "                                   crop = False)"
   ]
  },
  {
   "cell_type": "code",
   "execution_count": 23,
   "metadata": {},
   "outputs": [],
   "source": [
    "model.setInput(blob_image)\n",
    "output = model.forward(output_layers)"
   ]
  },
  {
   "cell_type": "code",
   "execution_count": 24,
   "metadata": {},
   "outputs": [
    {
     "name": "stdout",
     "output_type": "stream",
     "text": [
      "[array([[0.04108663, 0.0442506 , 0.3161306 , ..., 0.        , 0.        ,\n",
      "        0.        ],\n",
      "       [0.0560884 , 0.03575155, 0.24507889, ..., 0.        , 0.        ,\n",
      "        0.        ],\n",
      "       [0.0524606 , 0.03267331, 0.870302  , ..., 0.        , 0.        ,\n",
      "        0.        ],\n",
      "       ...,\n",
      "       [0.95119774, 0.94871575, 0.3259159 , ..., 0.        , 0.        ,\n",
      "        0.        ],\n",
      "       [0.9657825 , 0.96201974, 0.30091906, ..., 0.        , 0.        ,\n",
      "        0.        ],\n",
      "       [0.9662715 , 0.9646939 , 0.81547177, ..., 0.        , 0.        ,\n",
      "        0.        ]], dtype=float32), array([[0.02051784, 0.02204043, 0.05392156, ..., 0.        , 0.        ,\n",
      "        0.        ],\n",
      "       [0.01450252, 0.02188254, 0.30220136, ..., 0.        , 0.        ,\n",
      "        0.        ],\n",
      "       [0.02444869, 0.02025194, 0.08334242, ..., 0.        , 0.        ,\n",
      "        0.        ],\n",
      "       ...,\n",
      "       [0.97398007, 0.97440135, 0.04774071, ..., 0.        , 0.        ,\n",
      "        0.        ],\n",
      "       [0.9802085 , 0.97446746, 0.33700976, ..., 0.        , 0.        ,\n",
      "        0.        ],\n",
      "       [0.97659034, 0.9830013 , 0.07985657, ..., 0.        , 0.        ,\n",
      "        0.        ]], dtype=float32), array([[0.00979174, 0.00651668, 0.0210566 , ..., 0.        , 0.        ,\n",
      "        0.        ],\n",
      "       [0.00994947, 0.0111301 , 0.01978251, ..., 0.        , 0.        ,\n",
      "        0.        ],\n",
      "       [0.01037439, 0.00811938, 0.15799914, ..., 0.        , 0.        ,\n",
      "        0.        ],\n",
      "       ...,\n",
      "       [0.98921895, 0.989544  , 0.02045265, ..., 0.        , 0.        ,\n",
      "        0.        ],\n",
      "       [0.9878711 , 0.9864697 , 0.02191989, ..., 0.        , 0.        ,\n",
      "        0.        ],\n",
      "       [0.9875626 , 0.98952824, 0.13793054, ..., 0.        , 0.        ,\n",
      "        0.        ]], dtype=float32)]\n",
      "[[0.04108663 0.0442506  0.3161306  ... 0.         0.         0.        ]\n",
      " [0.0560884  0.03575155 0.24507889 ... 0.         0.         0.        ]\n",
      " [0.0524606  0.03267331 0.870302   ... 0.         0.         0.        ]\n",
      " ...\n",
      " [0.95119774 0.94871575 0.3259159  ... 0.         0.         0.        ]\n",
      " [0.9657825  0.96201974 0.30091906 ... 0.         0.         0.        ]\n",
      " [0.9662715  0.9646939  0.81547177 ... 0.         0.         0.        ]]\n"
     ]
    }
   ],
   "source": [
    "print(output)  \n",
    "print(output[0])"
   ]
  },
  {
   "cell_type": "code",
   "execution_count": 25,
   "metadata": {},
   "outputs": [],
   "source": [
    "# Showing informations on the screen\n",
    "class_ids = []\n",
    "confidences = []\n",
    "boxes = []\n",
    "for out in output:\n",
    "    for detection in out:\n",
    "        scores = detection[5:]\n",
    "        class_id = np.argmax(scores)\n",
    "        confidence = scores[class_id]\n",
    "        if confidence > 0.5:\n",
    "            # Object detected\n",
    "            center_x = int(detection[0] * ww)\n",
    "            center_y = int(detection[1] * hh)\n",
    "            w = int(detection[2] * ww)\n",
    "            h = int(detection[3] * hh)\n",
    "            # Rectangle coordinates\n",
    "            x = int(center_x - w / 2)\n",
    "            y = int(center_y - h / 2)\n",
    "            boxes.append([x, y, w, h])\n",
    "            confidences.append(float(confidence))\n",
    "            class_ids.append(class_id)"
   ]
  },
  {
   "cell_type": "code",
   "execution_count": 26,
   "metadata": {},
   "outputs": [],
   "source": [
    "indexes = cv2.dnn.NMSBoxes(boxes, confidences, 0.5, 0.4)\n",
    "font = cv2.FONT_HERSHEY_PLAIN\n",
    "for i in range(len(boxes)):\n",
    "    if i in indexes:\n",
    "        x, y, w, h = boxes[i]\n",
    "        label = str(names[class_ids[i]])\n",
    "        color = colours[i]\n",
    "        cv2.rectangle(image_, (x, y), (x + w, y + h), color, 2)\n",
    "        cv2.putText(image_, label, (x, y + 30), font, 3, color, 3)\n",
    "cv2.imshow(\"Image\", image_)\n",
    "cv2.waitKey(0)\n",
    "cv2.destroyAllWindows()\n",
    "image.release()"
   ]
  },
  {
   "cell_type": "code",
   "execution_count": null,
   "metadata": {},
   "outputs": [],
   "source": []
  },
  {
   "cell_type": "code",
   "execution_count": null,
   "metadata": {},
   "outputs": [],
   "source": []
  },
  {
   "cell_type": "code",
   "execution_count": null,
   "metadata": {},
   "outputs": [],
   "source": []
  },
  {
   "cell_type": "code",
   "execution_count": null,
   "metadata": {},
   "outputs": [],
   "source": []
  }
 ],
 "metadata": {
  "kernelspec": {
   "display_name": "Python 3",
   "language": "python",
   "name": "python3"
  },
  "language_info": {
   "codemirror_mode": {
    "name": "ipython",
    "version": 3
   },
   "file_extension": ".py",
   "mimetype": "text/x-python",
   "name": "python",
   "nbconvert_exporter": "python",
   "pygments_lexer": "ipython3",
   "version": "3.7.3"
  }
 },
 "nbformat": 4,
 "nbformat_minor": 2
}
